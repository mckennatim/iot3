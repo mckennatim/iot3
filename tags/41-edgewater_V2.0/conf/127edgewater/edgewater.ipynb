{
 "cells": [
  {
   "cell_type": "markdown",
   "metadata": {},
   "source": [
    "# edgewater"
   ]
  },
  {
   "cell_type": "markdown",
   "metadata": {},
   "source": [
    "Edgewater Water Control (EWC) generally operates without WIFI/internet with default settings for successive watering of zone 1, 2, 3 & 4. The current default setting is 60 minutes (3600 sec) for each zone</p>\n",
    "\n",
    "On startup, EWC does search for a WIFI connection for about 4 minutes before it is ready to operate.</p>"
   ]
  }
 ],
 "metadata": {
  "kernelspec": {
   "display_name": "Python 3",
   "language": "python",
   "name": "python3"
  },
  "language_info": {
   "name": "python",
   "version": "undefined.undefined.undefined"
  }
 },
 "nbformat": 4,
 "nbformat_minor": 2
}
